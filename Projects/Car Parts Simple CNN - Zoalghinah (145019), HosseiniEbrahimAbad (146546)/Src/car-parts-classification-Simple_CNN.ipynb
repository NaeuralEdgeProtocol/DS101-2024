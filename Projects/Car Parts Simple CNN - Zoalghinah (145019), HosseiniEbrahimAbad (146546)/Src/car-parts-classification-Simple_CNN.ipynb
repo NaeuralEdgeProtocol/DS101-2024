{
 "cells": [
  {
   "cell_type": "code",
   "execution_count": 14,
   "metadata": {
    "execution": {
     "iopub.execute_input": "2025-02-10T15:48:45.351478Z",
     "iopub.status.busy": "2025-02-10T15:48:45.351090Z",
     "iopub.status.idle": "2025-02-10T15:55:41.786611Z",
     "shell.execute_reply": "2025-02-10T15:55:41.785440Z",
     "shell.execute_reply.started": "2025-02-10T15:48:45.351437Z"
    },
    "trusted": true
   },
   "outputs": [
    {
     "name": "stdout",
     "output_type": "stream",
     "text": [
      "Start training...\n"
     ]
    },
    {
     "name": "stderr",
     "output_type": "stream",
     "text": [
      "274it [00:18, 14.90it/s]"
     ]
    },
    {
     "name": "stdout",
     "output_type": "stream",
     "text": [
      "1-epoch train process is completed!\n",
      "1-epoch train loss          -> 3.671\n",
      "1-epoch train accuracy      -> 0.072\n",
      "1-epoch train f1-score      -> 0.072\n"
     ]
    },
    {
     "name": "stderr",
     "output_type": "stream",
     "text": [
      "\n"
     ]
    },
    {
     "name": "stdout",
     "output_type": "stream",
     "text": [
      "1-epoch validation process is completed!\n",
      "1-epoch validation loss     -> 3.392\n",
      "1-epoch validation accuracy -> 0.127\n",
      "1-epoch validation f1-score -> 0.128\n"
     ]
    },
    {
     "name": "stderr",
     "output_type": "stream",
     "text": [
      "274it [00:09, 29.18it/s]"
     ]
    },
    {
     "name": "stdout",
     "output_type": "stream",
     "text": [
      "2-epoch train process is completed!\n",
      "2-epoch train loss          -> 3.274\n",
      "2-epoch train accuracy      -> 0.153\n",
      "2-epoch train f1-score      -> 0.152\n"
     ]
    },
    {
     "name": "stderr",
     "output_type": "stream",
     "text": [
      "\n"
     ]
    },
    {
     "name": "stdout",
     "output_type": "stream",
     "text": [
      "2-epoch validation process is completed!\n",
      "2-epoch validation loss     -> 3.106\n",
      "2-epoch validation accuracy -> 0.201\n",
      "2-epoch validation f1-score -> 0.203\n"
     ]
    },
    {
     "name": "stderr",
     "output_type": "stream",
     "text": [
      "274it [00:08, 30.86it/s]"
     ]
    },
    {
     "name": "stdout",
     "output_type": "stream",
     "text": [
      "3-epoch train process is completed!\n",
      "3-epoch train loss          -> 3.067\n",
      "3-epoch train accuracy      -> 0.204\n",
      "3-epoch train f1-score      -> 0.205\n"
     ]
    },
    {
     "name": "stderr",
     "output_type": "stream",
     "text": [
      "\n"
     ]
    },
    {
     "name": "stdout",
     "output_type": "stream",
     "text": [
      "3-epoch validation process is completed!\n",
      "3-epoch validation loss     -> 2.941\n",
      "3-epoch validation accuracy -> 0.237\n",
      "3-epoch validation f1-score -> 0.239\n"
     ]
    },
    {
     "name": "stderr",
     "output_type": "stream",
     "text": [
      "274it [00:09, 28.89it/s]"
     ]
    },
    {
     "name": "stdout",
     "output_type": "stream",
     "text": [
      "4-epoch train process is completed!\n",
      "4-epoch train loss          -> 2.937\n",
      "4-epoch train accuracy      -> 0.237\n",
      "4-epoch train f1-score      -> 0.238\n"
     ]
    },
    {
     "name": "stderr",
     "output_type": "stream",
     "text": [
      "\n"
     ]
    },
    {
     "name": "stdout",
     "output_type": "stream",
     "text": [
      "4-epoch validation process is completed!\n",
      "4-epoch validation loss     -> 2.844\n",
      "4-epoch validation accuracy -> 0.249\n",
      "4-epoch validation f1-score -> 0.250\n"
     ]
    },
    {
     "name": "stderr",
     "output_type": "stream",
     "text": [
      "274it [00:08, 30.75it/s]"
     ]
    },
    {
     "name": "stdout",
     "output_type": "stream",
     "text": [
      "5-epoch train process is completed!\n",
      "5-epoch train loss          -> 2.844\n",
      "5-epoch train accuracy      -> 0.254\n",
      "5-epoch train f1-score      -> 0.253\n"
     ]
    },
    {
     "name": "stderr",
     "output_type": "stream",
     "text": [
      "\n"
     ]
    },
    {
     "name": "stdout",
     "output_type": "stream",
     "text": [
      "5-epoch validation process is completed!\n",
      "5-epoch validation loss     -> 2.755\n",
      "5-epoch validation accuracy -> 0.271\n",
      "5-epoch validation f1-score -> 0.272\n"
     ]
    },
    {
     "name": "stderr",
     "output_type": "stream",
     "text": [
      "274it [00:08, 30.50it/s]"
     ]
    },
    {
     "name": "stdout",
     "output_type": "stream",
     "text": [
      "6-epoch train process is completed!\n",
      "6-epoch train loss          -> 2.760\n",
      "6-epoch train accuracy      -> 0.268\n",
      "6-epoch train f1-score      -> 0.269\n"
     ]
    },
    {
     "name": "stderr",
     "output_type": "stream",
     "text": [
      "\n"
     ]
    },
    {
     "name": "stdout",
     "output_type": "stream",
     "text": [
      "6-epoch validation process is completed!\n",
      "6-epoch validation loss     -> 2.678\n",
      "6-epoch validation accuracy -> 0.291\n",
      "6-epoch validation f1-score -> 0.292\n"
     ]
    },
    {
     "name": "stderr",
     "output_type": "stream",
     "text": [
      "274it [00:12, 21.17it/s]"
     ]
    },
    {
     "name": "stdout",
     "output_type": "stream",
     "text": [
      "7-epoch train process is completed!\n",
      "7-epoch train loss          -> 2.692\n",
      "7-epoch train accuracy      -> 0.287\n",
      "7-epoch train f1-score      -> 0.287\n"
     ]
    },
    {
     "name": "stderr",
     "output_type": "stream",
     "text": [
      "\n"
     ]
    },
    {
     "name": "stdout",
     "output_type": "stream",
     "text": [
      "7-epoch validation process is completed!\n",
      "7-epoch validation loss     -> 2.638\n",
      "7-epoch validation accuracy -> 0.293\n",
      "7-epoch validation f1-score -> 0.294\n"
     ]
    },
    {
     "name": "stderr",
     "output_type": "stream",
     "text": [
      "274it [00:09, 27.87it/s]"
     ]
    },
    {
     "name": "stdout",
     "output_type": "stream",
     "text": [
      "8-epoch train process is completed!\n",
      "8-epoch train loss          -> 2.644\n",
      "8-epoch train accuracy      -> 0.296\n",
      "8-epoch train f1-score      -> 0.296\n"
     ]
    },
    {
     "name": "stderr",
     "output_type": "stream",
     "text": [
      "\n"
     ]
    },
    {
     "name": "stdout",
     "output_type": "stream",
     "text": [
      "8-epoch validation process is completed!\n",
      "8-epoch validation loss     -> 2.569\n",
      "8-epoch validation accuracy -> 0.318\n",
      "8-epoch validation f1-score -> 0.320\n"
     ]
    },
    {
     "name": "stderr",
     "output_type": "stream",
     "text": [
      "274it [00:11, 24.05it/s]"
     ]
    },
    {
     "name": "stdout",
     "output_type": "stream",
     "text": [
      "9-epoch train process is completed!\n",
      "9-epoch train loss          -> 2.597\n",
      "9-epoch train accuracy      -> 0.308\n",
      "9-epoch train f1-score      -> 0.308\n"
     ]
    },
    {
     "name": "stderr",
     "output_type": "stream",
     "text": [
      "\n"
     ]
    },
    {
     "name": "stdout",
     "output_type": "stream",
     "text": [
      "9-epoch validation process is completed!\n",
      "9-epoch validation loss     -> 2.524\n",
      "9-epoch validation accuracy -> 0.322\n",
      "9-epoch validation f1-score -> 0.323\n"
     ]
    },
    {
     "name": "stderr",
     "output_type": "stream",
     "text": [
      "274it [00:09, 28.40it/s]"
     ]
    },
    {
     "name": "stdout",
     "output_type": "stream",
     "text": [
      "10-epoch train process is completed!\n",
      "10-epoch train loss          -> 2.556\n",
      "10-epoch train accuracy      -> 0.321\n",
      "10-epoch train f1-score      -> 0.321\n"
     ]
    },
    {
     "name": "stderr",
     "output_type": "stream",
     "text": [
      "\n"
     ]
    },
    {
     "name": "stdout",
     "output_type": "stream",
     "text": [
      "10-epoch validation process is completed!\n",
      "10-epoch validation loss     -> 2.491\n",
      "10-epoch validation accuracy -> 0.338\n",
      "10-epoch validation f1-score -> 0.339\n"
     ]
    },
    {
     "name": "stderr",
     "output_type": "stream",
     "text": [
      "274it [00:11, 23.93it/s]"
     ]
    },
    {
     "name": "stdout",
     "output_type": "stream",
     "text": [
      "11-epoch train process is completed!\n",
      "11-epoch train loss          -> 2.524\n",
      "11-epoch train accuracy      -> 0.335\n",
      "11-epoch train f1-score      -> 0.335\n"
     ]
    },
    {
     "name": "stderr",
     "output_type": "stream",
     "text": [
      "\n"
     ]
    },
    {
     "name": "stdout",
     "output_type": "stream",
     "text": [
      "11-epoch validation process is completed!\n",
      "11-epoch validation loss     -> 2.458\n",
      "11-epoch validation accuracy -> 0.345\n",
      "11-epoch validation f1-score -> 0.346\n"
     ]
    },
    {
     "name": "stderr",
     "output_type": "stream",
     "text": [
      "274it [00:10, 27.14it/s]"
     ]
    },
    {
     "name": "stdout",
     "output_type": "stream",
     "text": [
      "12-epoch train process is completed!\n",
      "12-epoch train loss          -> 2.491\n",
      "12-epoch train accuracy      -> 0.336\n",
      "12-epoch train f1-score      -> 0.337\n"
     ]
    },
    {
     "name": "stderr",
     "output_type": "stream",
     "text": [
      "\n"
     ]
    },
    {
     "name": "stdout",
     "output_type": "stream",
     "text": [
      "12-epoch validation process is completed!\n",
      "12-epoch validation loss     -> 2.432\n",
      "12-epoch validation accuracy -> 0.346\n",
      "12-epoch validation f1-score -> 0.347\n"
     ]
    },
    {
     "name": "stderr",
     "output_type": "stream",
     "text": [
      "274it [00:11, 24.45it/s]"
     ]
    },
    {
     "name": "stdout",
     "output_type": "stream",
     "text": [
      "13-epoch train process is completed!\n",
      "13-epoch train loss          -> 2.470\n",
      "13-epoch train accuracy      -> 0.337\n",
      "13-epoch train f1-score      -> 0.338\n"
     ]
    },
    {
     "name": "stderr",
     "output_type": "stream",
     "text": [
      "\n"
     ]
    },
    {
     "name": "stdout",
     "output_type": "stream",
     "text": [
      "13-epoch validation process is completed!\n",
      "13-epoch validation loss     -> 2.407\n",
      "13-epoch validation accuracy -> 0.355\n",
      "13-epoch validation f1-score -> 0.356\n"
     ]
    },
    {
     "name": "stderr",
     "output_type": "stream",
     "text": [
      "274it [00:12, 22.52it/s]"
     ]
    },
    {
     "name": "stdout",
     "output_type": "stream",
     "text": [
      "14-epoch train process is completed!\n",
      "14-epoch train loss          -> 2.454\n",
      "14-epoch train accuracy      -> 0.340\n",
      "14-epoch train f1-score      -> 0.339\n"
     ]
    },
    {
     "name": "stderr",
     "output_type": "stream",
     "text": [
      "\n"
     ]
    },
    {
     "name": "stdout",
     "output_type": "stream",
     "text": [
      "14-epoch validation process is completed!\n",
      "14-epoch validation loss     -> 2.390\n",
      "14-epoch validation accuracy -> 0.361\n",
      "14-epoch validation f1-score -> 0.362\n"
     ]
    },
    {
     "name": "stderr",
     "output_type": "stream",
     "text": [
      "274it [00:09, 29.73it/s]"
     ]
    },
    {
     "name": "stdout",
     "output_type": "stream",
     "text": [
      "15-epoch train process is completed!\n",
      "15-epoch train loss          -> 2.427\n",
      "15-epoch train accuracy      -> 0.349\n",
      "15-epoch train f1-score      -> 0.351\n"
     ]
    },
    {
     "name": "stderr",
     "output_type": "stream",
     "text": [
      "\n"
     ]
    },
    {
     "name": "stdout",
     "output_type": "stream",
     "text": [
      "15-epoch validation process is completed!\n",
      "15-epoch validation loss     -> 2.369\n",
      "15-epoch validation accuracy -> 0.364\n",
      "15-epoch validation f1-score -> 0.365\n"
     ]
    },
    {
     "name": "stderr",
     "output_type": "stream",
     "text": [
      "274it [00:09, 28.69it/s]"
     ]
    },
    {
     "name": "stdout",
     "output_type": "stream",
     "text": [
      "16-epoch train process is completed!\n",
      "16-epoch train loss          -> 2.417\n",
      "16-epoch train accuracy      -> 0.350\n",
      "16-epoch train f1-score      -> 0.349\n"
     ]
    },
    {
     "name": "stderr",
     "output_type": "stream",
     "text": [
      "\n"
     ]
    },
    {
     "name": "stdout",
     "output_type": "stream",
     "text": [
      "16-epoch validation process is completed!\n",
      "16-epoch validation loss     -> 2.359\n",
      "16-epoch validation accuracy -> 0.363\n",
      "16-epoch validation f1-score -> 0.364\n"
     ]
    },
    {
     "name": "stderr",
     "output_type": "stream",
     "text": [
      "274it [00:08, 30.46it/s]"
     ]
    },
    {
     "name": "stdout",
     "output_type": "stream",
     "text": [
      "17-epoch train process is completed!\n",
      "17-epoch train loss          -> 2.392\n",
      "17-epoch train accuracy      -> 0.357\n",
      "17-epoch train f1-score      -> 0.356\n"
     ]
    },
    {
     "name": "stderr",
     "output_type": "stream",
     "text": [
      "\n"
     ]
    },
    {
     "name": "stdout",
     "output_type": "stream",
     "text": [
      "17-epoch validation process is completed!\n",
      "17-epoch validation loss     -> 2.351\n",
      "17-epoch validation accuracy -> 0.362\n",
      "17-epoch validation f1-score -> 0.363\n"
     ]
    },
    {
     "name": "stderr",
     "output_type": "stream",
     "text": [
      "274it [00:09, 29.02it/s]"
     ]
    },
    {
     "name": "stdout",
     "output_type": "stream",
     "text": [
      "18-epoch train process is completed!\n",
      "18-epoch train loss          -> 2.389\n",
      "18-epoch train accuracy      -> 0.359\n",
      "18-epoch train f1-score      -> 0.358\n"
     ]
    },
    {
     "name": "stderr",
     "output_type": "stream",
     "text": [
      "\n"
     ]
    },
    {
     "name": "stdout",
     "output_type": "stream",
     "text": [
      "18-epoch validation process is completed!\n",
      "18-epoch validation loss     -> 2.329\n",
      "18-epoch validation accuracy -> 0.375\n",
      "18-epoch validation f1-score -> 0.375\n"
     ]
    },
    {
     "name": "stderr",
     "output_type": "stream",
     "text": [
      "274it [00:09, 30.29it/s]"
     ]
    },
    {
     "name": "stdout",
     "output_type": "stream",
     "text": [
      "19-epoch train process is completed!\n",
      "19-epoch train loss          -> 2.365\n",
      "19-epoch train accuracy      -> 0.367\n",
      "19-epoch train f1-score      -> 0.366\n"
     ]
    },
    {
     "name": "stderr",
     "output_type": "stream",
     "text": [
      "\n"
     ]
    },
    {
     "name": "stdout",
     "output_type": "stream",
     "text": [
      "19-epoch validation process is completed!\n",
      "19-epoch validation loss     -> 2.309\n",
      "19-epoch validation accuracy -> 0.380\n",
      "19-epoch validation f1-score -> 0.380\n"
     ]
    },
    {
     "name": "stderr",
     "output_type": "stream",
     "text": [
      "274it [00:09, 28.25it/s]"
     ]
    },
    {
     "name": "stdout",
     "output_type": "stream",
     "text": [
      "20-epoch train process is completed!\n",
      "20-epoch train loss          -> 2.351\n",
      "20-epoch train accuracy      -> 0.363\n",
      "20-epoch train f1-score      -> 0.363\n"
     ]
    },
    {
     "name": "stderr",
     "output_type": "stream",
     "text": [
      "\n"
     ]
    },
    {
     "name": "stdout",
     "output_type": "stream",
     "text": [
      "20-epoch validation process is completed!\n",
      "20-epoch validation loss     -> 2.293\n",
      "20-epoch validation accuracy -> 0.380\n",
      "20-epoch validation f1-score -> 0.381\n"
     ]
    },
    {
     "data": {
      "image/png": "[encoded data removed]",
      "text/plain": [
       "<Figure size 1200x500 with 2 Axes>"
      ]
     },
     "metadata": {},
     "output_type": "display_data"
    }
   ],
   "source": [
    "import torch\n",
    "import torch.nn as nn\n",
    "import torch.nn.functional as F\n",
    "import torchmetrics\n",
    "import matplotlib.pyplot as plt\n",
    "from tqdm import tqdm\n",
    "import os  # Import the 'os' module\n",
    "\n",
    "# Assuming 'classes', 'tr_dl', and 'val_dl' are already defined\n",
    "\n",
    "# Define a simpler custom CNN model with dynamic input size handling\n",
    "class SimpleCNN(nn.Module):\n",
    "    def __init__(self, num_classes):\n",
    "        super(SimpleCNN, self).__init__()\n",
    "        self.conv1 = nn.Conv2d(3, 16, kernel_size=3, stride=1, padding=1)\n",
    "        self.conv2 = nn.Conv2d(16, 32, kernel_size=3, stride=1, padding=1)\n",
    "        self.pool = nn.MaxPool2d(kernel_size=2, stride=2)\n",
    "        self.flatten_size = None  # To be computed dynamically\n",
    "        self.fc1 = nn.Linear(32 * 8 * 8, 64)  # Placeholder value; will be adjusted dynamically\n",
    "        self.fc2 = nn.Linear(64, num_classes)\n",
    "\n",
    "    def forward(self, x):\n",
    "        x = self.pool(F.relu(self.conv1(x)))\n",
    "        x = self.pool(F.relu(self.conv2(x)))\n",
    "        if self.flatten_size is None:\n",
    "            self.flatten_size = x.numel() // x.size(0)  # Compute the flattened size dynamically\n",
    "            self.fc1 = nn.Linear(self.flatten_size, 64).to(x.device)  # Update fc1 with correct input size\n",
    "        x = x.view(x.size(0), -1)  # Flatten the tensor\n",
    "        x = F.relu(self.fc1(x))\n",
    "        x = self.fc2(x)\n",
    "        return x\n",
    "\n",
    "# Instantiate the custom CNN model\n",
    "m = SimpleCNN(num_classes=len(classes))\n",
    "\n",
    "def train_setup(m):\n",
    "    return m.to(\"cuda\").train(), 20, \"cuda\", torch.nn.CrossEntropyLoss(), torch.optim.Adam(params=m.parameters(), lr=1e-3)\n",
    "\n",
    "def to_device(batch, device):\n",
    "    return batch[0].to(device), batch[1].to(device)\n",
    "\n",
    "def get_metrics(model, ims, gts, loss_fn, epoch_loss, epoch_acc, epoch_f1):\n",
    "    preds = model(ims)\n",
    "    loss = loss_fn(preds, gts)\n",
    "    return loss, epoch_loss + loss.item(), epoch_acc + (torch.argmax(preds, dim=1) == gts).sum().item(), epoch_f1 + f1_score(preds, gts)\n",
    "\n",
    "m, epochs, device, loss_fn, optimizer = train_setup(m)\n",
    "\n",
    "f1_score = torchmetrics.F1Score(task=\"multiclass\", num_classes=len(classes)).to(device)\n",
    "save_prefix, save_dir = \"car\", \"saved_models\"\n",
    "print(\"Start training...\")\n",
    "\n",
    "best_acc, best_loss, threshold, not_improved, patience = 0, float(\"inf\"), 0.01, 0, 5\n",
    "tr_losses, val_losses, tr_accs, val_accs, tr_f1s, val_f1s = [], [], [], [], [], []\n",
    "\n",
    "for epoch in range(epochs):\n",
    "    epoch_loss, epoch_acc, epoch_f1 = 0, 0, 0\n",
    "    for idx, batch in tqdm(enumerate(tr_dl)):\n",
    "        ims, gts = to_device(batch, device)\n",
    "        loss, epoch_loss, epoch_acc, epoch_f1 = get_metrics(m, ims, gts, loss_fn, epoch_loss, epoch_acc, epoch_f1)\n",
    "        optimizer.zero_grad()\n",
    "        loss.backward()\n",
    "        optimizer.step()\n",
    "\n",
    "    tr_loss_to_track = epoch_loss / len(tr_dl)\n",
    "    tr_acc_to_track = epoch_acc / len(tr_dl.dataset)\n",
    "    tr_f1_to_track = epoch_f1 / len(tr_dl)\n",
    "    tr_losses.append(tr_loss_to_track)\n",
    "    tr_accs.append(tr_acc_to_track)\n",
    "    tr_f1s.append(tr_f1_to_track)\n",
    "\n",
    "    print(f\"{epoch + 1}-epoch train process is completed!\")\n",
    "    print(f\"{epoch + 1}-epoch train loss          -> {tr_loss_to_track:.3f}\")\n",
    "    print(f\"{epoch + 1}-epoch train accuracy      -> {tr_acc_to_track:.3f}\")\n",
    "    print(f\"{epoch + 1}-epoch train f1-score      -> {tr_f1_to_track:.3f}\")\n",
    "\n",
    "    m.eval()\n",
    "    with torch.no_grad():\n",
    "        val_epoch_loss, val_epoch_acc, val_epoch_f1 = 0, 0, 0\n",
    "        for idx, batch in enumerate(val_dl):\n",
    "            ims, gts = to_device(batch, device)\n",
    "            loss, val_epoch_loss, val_epoch_acc, val_epoch_f1 = get_metrics(m, ims, gts, loss_fn, val_epoch_loss, val_epoch_acc, val_epoch_f1)\n",
    "\n",
    "        val_loss_to_track = val_epoch_loss / len(val_dl)\n",
    "        val_acc_to_track = val_epoch_acc / len(val_dl.dataset)\n",
    "        val_f1_to_track = val_epoch_f1 / len(val_dl)\n",
    "        val_losses.append(val_loss_to_track)\n",
    "        val_accs.append(val_acc_to_track)\n",
    "        val_f1s.append(val_f1_to_track)\n",
    "\n",
    "        print(f\"{epoch + 1}-epoch validation process is completed!\")\n",
    "        print(f\"{epoch + 1}-epoch validation loss     -> {val_loss_to_track:.3f}\")\n",
    "        print(f\"{epoch + 1}-epoch validation accuracy -> {val_acc_to_track:.3f}\")\n",
    "        print(f\"{epoch + 1}-epoch validation f1-score -> {val_f1_to_track:.3f}\")\n",
    "\n",
    "        if val_loss_to_track < (best_loss + threshold):\n",
    "            os.makedirs(save_dir, exist_ok=True)\n",
    "            best_loss = val_loss_to_track\n",
    "            torch.save(m.state_dict(), f\"{save_dir}/{save_prefix}_best_model.pth\")\n",
    "        else:\n",
    "            not_improved += 1\n",
    "            print(f\"Loss value did not decrease for {not_improved} epochs\")\n",
    "            if not_improved == patience:\n",
    "                print(f\"Stop training since loss value did not decrease for {patience} epochs.\")\n",
    "                break\n",
    "\n",
    "# Plotting accuracy and loss\n",
    "plt.figure(figsize=(12, 5))\n",
    "\n",
    "# Plot training and validation losses\n",
    "plt.subplot(1, 2, 1)\n",
    "plt.plot(range(1, len(tr_losses) + 1), tr_losses, label='Train Loss')\n",
    "plt.plot(range(1, len(val_losses) + 1), val_losses, label='Validation Loss')\n",
    "plt.xlabel('Epochs')\n",
    "plt.ylabel('Loss')\n",
    "plt.title('Training and Validation Loss')\n",
    "plt.legend()\n",
    "\n",
    "# Plot training and validation accuracies\n",
    "plt.subplot(1, 2, 2)\n",
    "plt.plot(range(1, len(tr_accs) + 1), tr_accs, label='Train Accuracy')\n",
    "plt.plot(range(1, len(val_accs) + 1), val_accs, label='Validation Accuracy')\n",
    "plt.xlabel('Epochs')\n",
    "plt.ylabel('Accuracy')\n",
    "plt.title('Training and Validation Accuracy')\n",
    "plt.legend()\n",
    "\n",
    "plt.tight_layout()\n",
    "plt.show()\n"
   ]
  }
 ],
 "metadata": {
  "kaggle": {
   "accelerator": "gpu",
   "dataSources": [
    {
     "datasetId": 4480592,
     "sourceId": 7694272,
     "sourceType": "datasetVersion"
    }
   ],
   "isGpuEnabled": true,
   "isInternetEnabled": true,
   "language": "python",
   "sourceType": "notebook"
  },
  "kernelspec": {
   "display_name": "Python 3",
   "language": "python",
   "name": "python3"
  },
  "language_info": {
   "codemirror_mode": {
    "name": "ipython",
    "version": 3
   },
   "file_extension": ".py",
   "mimetype": "text/x-python",
   "name": "python",
   "nbconvert_exporter": "python",
   "pygments_lexer": "ipython3",
   "version": "3.10.12"
  }
 },
 "nbformat": 4,
 "nbformat_minor": 4
}
